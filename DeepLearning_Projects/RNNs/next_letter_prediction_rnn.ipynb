{
  "nbformat": 4,
  "nbformat_minor": 0,
  "metadata": {
    "colab": {
      "provenance": [],
      "gpuType": "T4",
      "authorship_tag": "ABX9TyOBAX7+Wo/HGoY6+6wYG12J",
      "include_colab_link": true
    },
    "kernelspec": {
      "name": "python3",
      "display_name": "Python 3"
    },
    "language_info": {
      "name": "python"
    },
    "accelerator": "GPU"
  },
  "cells": [
    {
      "cell_type": "markdown",
      "metadata": {
        "id": "view-in-github",
        "colab_type": "text"
      },
      "source": [
        "<a href=\"https://colab.research.google.com/github/naikamal/HandsOnPytorch/blob/main/DeepLearning_Projects/RNNs/next_letter_prediction_rnn.ipynb\" target=\"_parent\"><img src=\"https://colab.research.google.com/assets/colab-badge.svg\" alt=\"Open In Colab\"/></a>"
      ]
    },
    {
      "cell_type": "markdown",
      "source": [
        "# Step 1: Import Libraries"
      ],
      "metadata": {
        "id": "3KaI5TXZkGpU"
      }
    },
    {
      "cell_type": "code",
      "execution_count": null,
      "metadata": {
        "id": "mMV1yZd6jiiX"
      },
      "outputs": [],
      "source": [
        "import torch\n",
        "import torch.nn as nn\n",
        "import torch.optim as optim\n",
        "import random\n"
      ]
    },
    {
      "cell_type": "markdown",
      "source": [
        "# Step 2: Prepare Name Data"
      ],
      "metadata": {
        "id": "PXp6o1q6kLCg"
      }
    },
    {
      "cell_type": "code",
      "source": [
        "\n",
        "names=['naikamal','taimur','dayan','waheed','ziad']\n",
        "all_chars=sorted(list(set(\"\".join(names))))\n",
        "char_to_idx={char:i for i,char in enumerate(all_chars)}\n",
        "idx_to_char={i:char for char,i in char_to_idx.items()}\n",
        "vocab_size=len(all_chars)\n",
        "\n",
        "print(f\"vocablary size : {vocab_size}\")\n"
      ],
      "metadata": {
        "colab": {
          "base_uri": "https://localhost:8080/"
        },
        "id": "K_jcQpDCkBGE",
        "outputId": "427c8762-09e3-48fd-9347-b932789ab703"
      },
      "execution_count": null,
      "outputs": [
        {
          "output_type": "stream",
          "name": "stdout",
          "text": [
            "vocablary size : 15\n"
          ]
        }
      ]
    },
    {
      "cell_type": "markdown",
      "source": [
        "# Step 3: Prepare Dataset"
      ],
      "metadata": {
        "id": "wq1wWVaprQjR"
      }
    },
    {
      "cell_type": "code",
      "source": [],
      "metadata": {
        "id": "8Lmi5gr9nBlL"
      },
      "execution_count": null,
      "outputs": []
    }
  ]
}